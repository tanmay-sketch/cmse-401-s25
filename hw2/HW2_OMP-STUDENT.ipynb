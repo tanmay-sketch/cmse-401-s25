{
 "cells": [
  {
   "cell_type": "markdown",
   "metadata": {},
   "source": [
    "Complete the assignment and turn it in to D2L by **_11:59pm on Sunday, February 23_**."
   ]
  },
  {
   "cell_type": "markdown",
   "metadata": {},
   "source": [
    "# Homework 2: Image Processing using OMP\n",
    "\n",
    "In this assignment, you are going to modify and improve the processing speed of an edge detector for grayscale PNG images. Edge detection is an image processing technique to find boundaries of objects in images. Here is an example image and the detected edges:\n",
    "\n",
    "**Note:** this homework was motivated and adapted from: https://web.stanford.edu/class/cs315b/assignment1.html\n",
    "\n",
    "<table>\n",
    "    <tr><td>\n",
    "<img src=\"https://lh3.googleusercontent.com/KAUNwCSj6OGz-XCnH8vtA0zoxtiWhlw67IYzULXvfH37ap5JYz46i8TMU-mM4x7-dkOuc3hgUA=w740\" alt=\"Example image of Sparty\"></td><td><img src=\"https://lh4.googleusercontent.com/goBSqfFUUXwKaeVBJEm3zdwzQZLokNZBTEbDx8GE-axIB3EaLURys7bcFhPT89r2CKN0e87BHQ=w740\" alt=\"Example edge detection taken of the Sparty Image\"></td></tr>\n",
    "\n",
    "The files necessary for this assignment are found in a zip folder titled \"HW2_edge_detection.zip\".  To turn in this assignment you must upload all files to D2L.  Use the following instructions:\n",
    "    \n",
    "\n",
    "&#9989; **<font color=red>DO THIS:</font>** Upload the code files to you HPCC account and make sure you can compile and run the software.  Note, this program uses the libpng library which is already installed on the HPCC. \n",
    "    \n",
    "1. Download the [Edge_Detection repository](https://d2l.msu.edu/d2l/le/content/2225524/viewContent/17191154/View) repository from the \"Homework Files\" section on D2L under \"Content\". Once downloaded, add it to your course Github repository. \n",
    "2. Pull your updated repository with the \"Edge Detection\" folder to your account on the HPCC.\n",
    "3. From a command line move into the repository and run the following commands to verify the code is working:\n",
    "```bash\n",
    "make\n",
    "make test\n",
    "```\n",
    "4. To complete the assignment, submit all files to the D2L submission box by **_11:59pm on Sunday, February 23_** \n",
    " \n",
    "**_Note:_** if for any reason you can not figure out git, please review the [git tutorial](https://msu-cmse-courses.github.io/cmse802-f20-student/0000-Getting-to-know-git.html) and go to your instructors office hours. \n",
    "\n",
    "### Goals for this assignment:\n",
    "\n",
    "By the end of this assignment, you should be able to:\n",
    "\n",
    "* Practice using Git\n",
    "* Debug and benchmark existing workflows.\n",
    "* Use OpenMP to run code in parallel.\n"
   ]
  },
  {
   "cell_type": "markdown",
   "metadata": {},
   "source": [
    "# Code Description and Background \n",
    "\n",
    "There are lots of edge detection algorithms but in this assignment, you will work on an algorithm with the following three steps:\n",
    "\n",
    "1. Image Smoothing\n",
    "2. Gradient calculation (Sobel Filters)\n",
    "3. Edge Thresholding\n",
    "\n",
    "The following section describes each step in detail."
   ]
  },
  {
   "cell_type": "markdown",
   "metadata": {},
   "source": [
    "### Step 1: Smoothing (Average vs Median Filtering)\n",
    "Before starting the actual edge detection, we smooth the image to reduce undesired edges detected due to noise. There are lots of ways to smooth an image. The code provided uses an Average Filter.  Average Filtering approaches uses a \"sliding window algorithm\".  The input and outputs of a \"sliding window algorithm\" is an image.  The value of each pixel in the output image is calculated using a \"window\" of data around the corresponding pixel in the input image.  \n",
    "\n",
    "For the **Average Filter**, all of the pixels in the window for are averaged and the value is stored in the output image at the same location as the center pixel. \n",
    "\n",
    "If you think about it, the sliding window is not fully defined at the edges.  For the Average Filter this is not a problem. The algorithm just takes the median or average of the valid points within the windows. Here is a snip-it from the code:"
   ]
  },
  {
   "cell_type": "markdown",
   "metadata": {},
   "source": [
    "```C++\n",
    "//Average Filter \n",
    "for(int c=0;c<sz.width;c++) \n",
    "    for(int r=0;r<sz.height;r++)\n",
    "    {\n",
    "        double count = 0;\n",
    "        double tot = 0;\n",
    "        for(int cw=max(0,c-halfwindow); cw<min(sz.width,c+halfwindow+1); cw++)\n",
    "            for(int rw=max(0,r-halfwindow); rw<min(sz.height,r+halfwindow+1); rw++)\n",
    "            {\n",
    "                count++;\n",
    "                tot += (double) img[rw][cw];\n",
    "            }\n",
    "        output[r][c] = (int) (tot/count);\n",
    "    }\n",
    "\n",
    "```"
   ]
  },
  {
   "cell_type": "markdown",
   "metadata": {},
   "source": [
    "### Step 2: Gradient calculation (Sobel Filter)\n",
    "\n",
    "Assuming that each object consists of pixels that do not greatly vary in their brightness, the edges in an image are from the sudden changes of brightness in the pixels.  One way to measure how big the change is to calculate the gradient magnitude at each pixel. The gradient operator we are going to use in this assignment is Sobel operator. Sobel operator is based on the following two 3x3 filters, which calculate x and y component of the gradient, respectively:\n",
    "\n",
    "$$ G_x =\n",
    "\\left[\n",
    "\\begin{matrix}\n",
    "    -1   & 0 & 1  \\\\\n",
    "    -2   & 0 & 2  \\\\\n",
    "    -1   & 0 & 1 \n",
    " \\end{matrix}\n",
    " \\right]\n",
    " G_y = \n",
    "\\left[\n",
    "\\begin{matrix}\n",
    "    1   & 2 & 1  \\\\\n",
    "    0   & 0 & 0  \\\\\n",
    "    -1 & -2 & -1 \n",
    " \\end{matrix}\n",
    " \\right]\n",
    "$$\n",
    "\n",
    "Here is a code snip-it that creates the filters:"
   ]
  },
  {
   "cell_type": "markdown",
   "metadata": {},
   "source": [
    "```c++\n",
    "//Sobel Filters\n",
    "double xfilter[3][3];\n",
    "double yfilter[3][3];\n",
    "xfilter[0][0] = -1;\n",
    "xfilter[1][0] = -2;\n",
    "xfilter[2][0] = -1;\n",
    "xfilter[0][1] = 0;\n",
    "xfilter[1][1] = 0;\n",
    "xfilter[2][1] = 0;\n",
    "xfilter[0][2] = 1;\n",
    "xfilter[1][2] = 2;\n",
    "xfilter[2][2] = 1;\n",
    "for(int i=0;i<3;i++) \n",
    "    for(int j=0;j<3;j++)\n",
    "        yfilter[j][i] = xfilter[i][j];\n",
    "\n",
    "```"
   ]
  },
  {
   "cell_type": "markdown",
   "metadata": {},
   "source": [
    "Once x and y components of the gradient is computed, the magnitude can be computed by: \n",
    "\n",
    "$$IMG_{Gradient} = \\sqrt{G_x^2 + G_y^2}$$\n",
    "\n"
   ]
  },
  {
   "cell_type": "markdown",
   "metadata": {},
   "source": [
    "```C++\n",
    "// Gradient Filter\n",
    "for(int c=1;c<sz.width-1;c++)\n",
    "    for(int r=1;r<sz.height-1;r++)\n",
    "        {\n",
    "                double Gx = 0;\n",
    "                double Gy = 0;\n",
    "                for(int cw=0; cw<3; cw++)\n",
    "                    for(int rw=0; rw<3; rw++)\n",
    "                        {\n",
    "                                Gx +=  ((double) output[r+rw-1][c+cw-1])*xfilter[rw][cw];\n",
    "                                Gy +=  ((double) output[r+rw-1][c+cw-1])*yfilter[rw][cw];\n",
    "                        }\n",
    "                g_img[r][c] = sqrt(Gx*Gx+Gy*Gy);\n",
    "        }\n",
    "```"
   ]
  },
  {
   "cell_type": "markdown",
   "metadata": {},
   "source": [
    "### Step 3: Edge Thresholding\n",
    "\n",
    "The last step in the code provided is edge thresholding.  In this case, edges are defined based on the gradient image ($IMG_{Gradient}$).  Values over the threshold are considered edges and vales under the threshold are not edges.\n",
    "\n",
    "$$IMG_{Edge} = IMG_{Gradient} > thresh$$\n",
    "\n",
    "The threshold (```thresh```) may be varied to get different results.  For the images provided set the threshold to be 50. \n"
   ]
  },
  {
   "cell_type": "markdown",
   "metadata": {},
   "source": [
    "```C++\n",
    "// Thresholding\n",
    "for(int c=0;c<sz.width;c++)\n",
    "    for(int r=0;r<sz.height;r++)\n",
    "    if (g_img[r][c] > thresh)\n",
    "        output[r][c] = 255;\n",
    "    else\n",
    "        output[r][c] = 0;\n",
    "```"
   ]
  },
  {
   "cell_type": "markdown",
   "metadata": {},
   "source": [
    "# Homework Assignment\n",
    "\n",
    "For this assignment you will do the following parts:\n",
    "\n",
    "1. Establish Serial Benchmark\n",
    "2. Optimize the Serial Code using compiler options\n",
    "3. Modify the code to use OpenMP loops\n",
    "4. Final Report\n",
    "5. Deliverables"
   ]
  },
  {
   "cell_type": "markdown",
   "metadata": {},
   "source": [
    "## Part 1: Establish Serial Benchmark\n",
    "\n",
    "&#9989; **<font color=red>DO THIS:</font>** Benchmark the code provided using the image files provided in the images directory.  This file should provide a solid baseline.  Make sure you explicitly describe the hardware you ran on and run enough trials to account for hardware and system variation."
   ]
  },
  {
   "cell_type": "markdown",
   "metadata": {},
   "source": [
    "dev-amd20\n",
    "Cores: 128\n",
    "Memory: 960GB\n",
    "\n",
    "AMD EPYC 7H12 64-Core Processor @ 2.6GHz\n",
    "\n",
    "Number of runs per image = 10\n",
    "\n",
    "File used to benchmark the code for each of the images:\n",
    "\n",
    "```bash\n",
    "#!/bin/bash\n",
    "\n",
    "runs=10\n",
    "TIMEFORMAT=%R\n",
    "sum_cube=0\n",
    "sum_sparty=0\n",
    "sum_stadium=0\n",
    "sum_earth=0\n",
    "\n",
    "# Ensure the binary exists before running benchmarks\n",
    "if [[ ! -f \"./process\" ]]; then\n",
    "    echo \"Error: ./process not found! Compile it first using 'make'.\"\n",
    "    exit 1\n",
    "fi\n",
    "\n",
    "echo \"Benchmarking ./process for $runs runs...\"\n",
    "\n",
    "for i in $(seq 1 $runs); do\n",
    "    # Measure execution time of ./process\n",
    "    t_run_cube=$( { time ./process ./images/cube.png test.png > /dev/null 2>&1; } 2>&1 )\n",
    "    t_run_earth=$( { time ./process ./images/earth.png test.png > /dev/null 2>&1; } 2>&1 )\n",
    "    t_run_sparty=$( { time ./process ./images/sparty.png test.png > /dev/null 2>&1; } 2>&1 )\n",
    "    t_run_stadium=$( { time ./process ./images/MSUStadium.png test.png > /dev/null 2>&1; } 2>&1 )\n",
    "\n",
    "    sum_cube=$(echo \"$sum_cube + $t_run_cube\" | bc -l)\n",
    "    sum_earth=$(echo \"$sum_earth + $t_run_earth\" | bc -l)\n",
    "    sum_sparty=$(echo \"$sum_sparty + $t_run_sparty\" | bc -l)\n",
    "    sum_stadium=$(echo \"$sum_stadium + $t_run_stadium\" | bc -l)\n",
    "done\n",
    "\n",
    "# Calculate average execution time\n",
    "avg_cube=$(echo \"$sum_cube / $runs\" | bc -l)\n",
    "avg_earth=$(echo \"$sum_earth / $runs\" | bc -l)\n",
    "avg_sparty=$(echo \"$sum_sparty / $runs\" | bc -l)\n",
    "avg_stadium=$(echo \"$sum_stadium / $runs\" | bc -l)\n",
    "\n",
    "echo \"Average execution time for cube: $avg_cube seconds\"\n",
    "echo \"Average execution time for earth: $avg_earth seconds\"\n",
    "echo \"Average execution time for sparty: $avg_sparty seconds\"\n",
    "echo \"Average execution time for stadium: $avg_stadium seconds\"\n",
    "``` "
   ]
  },
  {
   "cell_type": "markdown",
   "metadata": {},
   "source": [
    "Timing Measurements:\n",
    "```\n",
    "Average execution time for cube: .20680000000000000000 seconds\n",
    "Average execution time for earth: 6.82940000000000000000 seconds\n",
    "Average execution time for sparty: .20980000000000000000 seconds\n",
    "Average execution time for stadium: .26670000000000000000 seconds\n",
    "```"
   ]
  },
  {
   "cell_type": "markdown",
   "metadata": {},
   "source": [
    "## Part 2: Optimize the Serial Code using compiler options\n",
    "The code provided is not optimized very well.  There are lots of things that could be done to speed up the existing code. For this homework I would like you try and benchmark two optimizations:\n",
    "\n",
    "1. Use different levels of compiler optimization \n",
    "1. Change the order of the loops (row and column) for the Average Filter, Gradient Filter and Edge Thresholding. See if the change in order will increase speed due to multiple cache hits. \n",
    "\n",
    "&#9989; **<font color=red>DO THIS:</font>** Make the updates to the serial code as described above.  Benchmark and compare the time differences between the original version, the modified versions.  Pick the changes that provide for the fastest code.  Make all comparisons on the same hardware as Part #1.  If possible provide a detailed table or graph to show the differences. \n",
    "\n",
    "Make sure you also save a version of your best serial code to turn in. "
   ]
  },
  {
   "cell_type": "markdown",
   "metadata": {},
   "source": [
    "The following are the compiler optimizations that I found on the internet that I could use for compiling the code:\n",
    "```bash\n",
    "- O1: This enables most common forms of optimization that requires no size versus speed decisions, including function inlining. It can often actually produce a faster compile than -O0, because the resulting files are smaller.\n",
    "```\n",
    "\n",
    "Timing measurements:\n",
    "```\n",
    "Average execution time for cube: .06960000000000000000 seconds\n",
    "Average execution time for earth: 2.43470000000000000000 seconds\n",
    "Average execution time for sparty: .08270000000000000000 seconds\n",
    "Average execution time for stadium: .12080000000000000000 seconds\n",
    "```\n",
    "\n",
    "```bash\n",
    "- O2: This enables additional optimizations, such as instruction scheduling. Again, optimizations that can have speed versus size implications will not be used.\n",
    "```\n",
    "\n",
    "Timing measurements:\n",
    "```\n",
    "Average execution time for cube: .06970000000000000000 seconds\n",
    "Average execution time for earth: 2.44040000000000000000 seconds\n",
    "Average execution time for sparty: .08120000000000000000 seconds\n",
    "Average execution time for stadium: .11990000000000000000 seconds\n",
    "```\n",
    "\n",
    "```bash\n",
    "- O3: This enables additional optimizations, such as aggressive function inlining and can therefore increase the speed at the expense of image size. Furthermore, this option enables -ftree-vectorize - causing the compiler to attempt to automatically generate NEON code from standard C or C++. \n",
    "```\n",
    "\n",
    "Timing measurements:\n",
    "```\n",
    "Average execution time for cube: .06700000000000000000 seconds\n",
    "Average execution time for earth: 2.25150000000000000000 seconds\n",
    "Average execution time for sparty: .08010000000000000000 seconds\n",
    "Average execution time for stadium: .11690000000000000000 seconds\n",
    "```\n",
    "\n",
    "```bash\n",
    "- Os: This selects optimizations that attempt to minimize the size of the image, even at the expense of speed.\n",
    "```\n",
    "\n",
    "Timing measurements:\n",
    "```\n",
    "Average execution time for cube: .07290000000000000000 seconds\n",
    "Average execution time for earth: 2.51080000000000000000 seconds\n",
    "Average execution time for sparty: .08710000000000000000 seconds\n",
    "Average execution time for stadium: .12540000000000000000 seconds\n",
    "```"
   ]
  },
  {
   "cell_type": "markdown",
   "metadata": {},
   "source": [
    "Based on the compiler optimizations, there is a significant speedup from original code to the optimized compiler code.  The best compiler optimization was O3.  The following table shows the differences in speed for the different images.\n",
    "\n",
    "| Image | Regular | O1 | O2 | O3 | Os |\n",
    "|-------|---------|----|----|----|----|\n",
    "| Cube  | .2068   | .0696 | .0697 | .0670 | .0729 |\n",
    "| Earth | 6.8294  | 2.434 | 2.440 | 2.251 | 2.510 |\n",
    "| Sparty| .2098   | .0827 | .0812 | .0801 | .0871 |\n",
    "| Stadium| .2667  | .120 | .119 | .116 | .125 |\n",
    "\n",
    "Table 1: Timing measurements in seconds for the different images and compiler optimizations."
   ]
  },
  {
   "cell_type": "markdown",
   "metadata": {},
   "source": [
    "This is the modified makefile to use the compiler optimizations:\n",
    "```makefile\n",
    "CFLAGS = -O3\n",
    "all: process \n",
    "\n",
    "main_process.o: main_process.c\n",
    "\tgcc $(CFLAGS) -c main_process.c \n",
    "\n",
    "png_util.o: png_util.c\n",
    "\tgcc $(CFLAGS) -l lpng16 -c png_util.c\n",
    "\n",
    "process: main_process.o png_util.o\n",
    "\tgcc $(CFLAGS) -o process -lm -l png16 main_process.o png_util.o\n",
    "\n",
    "test: process \n",
    "\t./process ./images/cube.png test.png\n",
    "\n",
    "clean:\n",
    "\trm *.o\n",
    "\trm process\n",
    "```"
   ]
  },
  {
   "cell_type": "markdown",
   "metadata": {},
   "source": [
    "For the second part of the assignment, I am changing the order of the loops for the Average Filter, Gradient Filter and Edge Thresholding.  I will be using -O3 for the compiler optimizations and measure the time differences.\n",
    "\n",
    "Timing measurements after changing the order of loops for the Average Filter:\n",
    "```\n",
    "Average execution time for cube: .06490000000000000000 seconds\n",
    "Average execution time for earth: 1.98540000000000000000 seconds\n",
    "Average execution time for sparty: .07540000000000000000 seconds\n",
    "Average execution time for stadium: .11080000000000000000 seconds\n",
    "```\n",
    "\n",
    "The code became faster after changing the order of the loops for the Average Filter. This difference is especially noticeable for the Earth image.\n",
    "\n",
    "Timing measurements after changing the order of loops for the Gradient Filter:\n",
    "```\n",
    "Average execution time for cube: .06450000000000000000 seconds\n",
    "Average execution time for earth: 1.89200000000000000000 seconds\n",
    "Average execution time for sparty: .07430000000000000000 seconds\n",
    "Average execution time for stadium: .11030000000000000000 seconds\n",
    "```\n",
    "\n",
    "The code became faster after changing the order of the loops for the Gradient Filter. Again, this difference can be seen for the Earth image.\n",
    "\n",
    "Timing measurements after changing the order of loops for the Edge Thresholding:\n",
    "```\n",
    "Average execution time for cube: .06490000000000000000 seconds\n",
    "Average execution time for earth: 1.72850000000000000000 seconds\n",
    "Average execution time for sparty: .07430000000000000000 seconds\n",
    "Average execution time for stadium: .11240000000000000000 seconds\n",
    "```\n",
    "\n",
    "The code became even faster after changing the order of the loops for the Edge Thresholding.  Again, this difference can be seen for the Earth image.\n",
    "\n",
    "The following table shows the differences in speed for the different images after changing the order of the loops.\n",
    "| Image | Average Filter | Gradient Filter | Edge Thresholding |\n",
    "|-------|----------------|-----------------|-------------------|\n",
    "| Cube  | .0649          | .0645           | .0649             |\n",
    "| Earth | 1.9854         | 1.8920          | 1.7285            |\n",
    "| Sparty| .0754          | .0743           | .0743             |\n",
    "| Stadium| .1108         | .1103           | .1124             |\n",
    "\n",
    "Table 2: Timing measurements in seconds for the different images and loops.\n",
    "\n",
    "This speedup is noticeable due to multiple cache hits. Since we are iterating over the rows first and then the columns, we are accssing the memory in a more sequential manner. The cache already prefetches the subsequent rows, which makes the access faster.\n"
   ]
  },
  {
   "cell_type": "code",
   "execution_count": 1,
   "metadata": {},
   "outputs": [],
   "source": [
    "import matplotlib.pyplot as plt\n",
    "import numpy as np\n",
    "import pandas as pd"
   ]
  },
  {
   "cell_type": "code",
   "execution_count": 9,
   "metadata": {},
   "outputs": [
    {
     "name": "stderr",
     "output_type": "stream",
     "text": [
      "/var/folders/ph/1mrmk6rd0x39gd0qq7yhcbkc0000gn/T/ipykernel_41534/430063135.py:15: MatplotlibDeprecationWarning: The get_cmap function was deprecated in Matplotlib 3.7 and will be removed two minor releases later. Use ``matplotlib.colormaps[name]`` or ``matplotlib.colormaps.get_cmap(obj)`` instead.\n",
      "  cmap = cm.get_cmap(\"YlOrBr\")\n"
     ]
    },
    {
     "data": {
      "image/png": "[encoded data removed]",
      "text/plain": [
       "<Figure size 800x1000 with 2 Axes>"
      ]
     },
     "metadata": {},
     "output_type": "display_data"
    }
   ],
   "source": [
    "import numpy as np\n",
    "import matplotlib.pyplot as plt\n",
    "import matplotlib.cm as cm\n",
    "\n",
    "x_arr_images = [\"Cube\", \"Earth\", \"MSU Stadium\", \"Sparty\"]\n",
    "regular_time = [.2068, 6.82, .2098, .2667]\n",
    "best_compiled_time = [.0670, 2.251, .0801, .116]\n",
    "best_loops_time = [.0645, 1.72, .0743, .1103]\n",
    "\n",
    "x = np.arange(len(x_arr_images))  # the label locations\n",
    "width = 0.25  # the width of the bars\n",
    "\n",
    "fig, axs = plt.subplots(2, 1, figsize=(8, 10))  # Create two subplots\n",
    "\n",
    "cmap = cm.get_cmap(\"YlOrBr\")\n",
    "\n",
    "# First plot (Linear scale)\n",
    "axs[0].bar(x - width, regular_time, width, label='Regular', color=cmap(0.2))\n",
    "axs[0].bar(x, best_compiled_time, width, label='Best Compiled', color=cmap(0.5))\n",
    "axs[0].bar(x + width, best_loops_time, width, label='Best Loops', color=cmap(0.8))\n",
    "axs[0].set_ylabel('Time (s)')\n",
    "axs[0].set_title('Time taken to process images (Linear Scale)')\n",
    "axs[0].set_xticks(x)\n",
    "axs[0].set_xticklabels(x_arr_images)\n",
    "axs[0].legend()\n",
    "\n",
    "# Second plot (Log scale)\n",
    "axs[1].bar(x - width, regular_time, width, label='Regular', color=cmap(0.2))\n",
    "axs[1].bar(x, best_compiled_time, width, label='Best Compiled', color=cmap(0.5))\n",
    "axs[1].bar(x + width, best_loops_time, width, label='Best Loops', color=cmap(0.8))\n",
    "axs[1].set_yscale('log')  # Set y-axis to log scale\n",
    "axs[1].set_ylabel('Time (s, log scale)')\n",
    "axs[1].set_title('Time taken to process images (Log Scale)')\n",
    "axs[1].set_xticks(x)\n",
    "axs[1].set_xticklabels(x_arr_images)\n",
    "axs[1].legend()\n",
    "\n",
    "plt.tight_layout()\n",
    "plt.show()"
   ]
  },
  {
   "cell_type": "markdown",
   "metadata": {},
   "source": [
    "## Part 3: Modify the code to use OpenMP loops\n",
    "\n",
    "&#9989; **<font color=red>DO THIS:</font>** Rewrite the code to use OpenMP loops to run the Average Filter, Gradient Filter and Edge Thresholding in parallel.  Make sure you carefully note the types of changes you make and use proper synchronization.  Benchmark your changes with different OMP Loop Scheduling options and compare to the serial benchmarks."
   ]
  },
  {
   "cell_type": "markdown",
   "metadata": {},
   "source": [
    "### OMP Loop Scheduling Options\n",
    "Watch the following video which talks about ways to play around with schedulign options:\n",
    "\n",
    "* &#9989; **<font color=red>DO THIS:</font>** Watch the Scheduling [Introduction to OpenMP: 10 Discussion 4](https://www.youtube.com/watch?v=8jzHiYo49G0)  video:"
   ]
  },
  {
   "cell_type": "code",
   "execution_count": null,
   "metadata": {},
   "outputs": [],
   "source": [
    "from IPython.display import YouTubeVideo\n",
    "YouTubeVideo(\"8jzHiYo49G0\",width=570,height=360)"
   ]
  },
  {
   "cell_type": "markdown",
   "metadata": {},
   "source": [
    ">**schedule(static [,chunk])** Deal-out blocks of interations of size \"chunk\" to each thread\n",
    "> \n",
    ">**schedule(dynamic[,chunk])** Each thread grabs \"chunk\" Iterations off a queue until all iterations have been handeled.\n",
    "> \n",
    ">**schedule(guided[,chunk])** Threads dynamically grab blocks of iterations. The size of the block starts large and shrinks down to size \"chnunk\" as the calculation proceeds.\n",
    "> \n",
    ">**schedule(runtime)** Schedule and chunk size taken from OMP_SCHEDULE enviornment variable (or the runtime library).\n",
    "> \n",
    ">**schedule(auto)** Schedule is left up to the runtime to choose (does not have to be any of the above)."
   ]
  },
  {
   "cell_type": "code",
   "execution_count": null,
   "metadata": {},
   "outputs": [],
   "source": [
    "# Code for loading png images in python\n",
    "# feel free to load two different version of an edge file, subtract them and compare the difference\n",
    "# This can be very good when you try to debug. \n",
    "%matplotlib inline\n",
    "import matplotlib.pylab as plt\n",
    "import imageio\n",
    "\n",
    "filename = 'Edge_Detection/images/sparty.png'\n",
    "\n",
    "im = imageio.imread(filename)\n",
    "    \n",
    "#Show the image\n",
    "plt.imshow(im, cmap='gray');\n",
    "plt.axis('off');"
   ]
  },
  {
   "cell_type": "markdown",
   "metadata": {},
   "source": [
    "## Part 4: Final Report\n",
    "\n",
    "&#9989; **<font color=red>DO THIS:</font>** Write a report describing what you learned (There is a template in the instructor's git repository).  This report should be in the form of a narrative (story).  Start by describing how the provided serial code performed and what you did to accurately measure that performance. Then talk about what you did to optimize the serial performance. Finally, describe what you did to add in OpenMP and how the different scheduling options changed the speed of the algorithm.  Make sure you include well labeled graphs of all of your benchmarking data and explain the graphs in your report text with a focus on any odd results you may see.  Conclude with a general lessons learned.\n",
    "\n",
    "This is an image algorithm. You should include example images. \n"
   ]
  },
  {
   "cell_type": "markdown",
   "metadata": {},
   "source": [
    "### Grayscale PNG images\n",
    "The code provided is desinged to work only with grayscale ```*.png```  images. Most PNG images are color and many images are in different formats (ex. TIFF, jpeg).  Fortunatly there is an easy to use command called ```convert``` which comes with the [ImageMagick](https://www.imagemagick.org/) Library. Feel free to download and install the software for your own use or use the software already installed on the HPCC.  The following examples can be used on the HPCC to load ImageMagick into your PATH, download an image from the internet and convert the image to a grayscale ```PNG``` file:\n",
    "\n",
    "```bash\n",
    "module load ImageMagick\n",
    "wget https://c1.staticflickr.com/7/6118/6369769483_882a704a38_b.jpg\n",
    "convert -colorspace Gray 6369769483_882a704a38_b.jpg MSUStadium.png\n",
    "```"
   ]
  },
  {
   "cell_type": "markdown",
   "metadata": {},
   "source": [
    "## Part 5: Deliverables\n",
    "\n",
    "&#9989; **<font color=red>DO THIS:</font>** Prepare your files for the instructor.  I recommend having three versions of the code; original serial version, optimized serial version, optimized OMP version.  Update the provided ```Makefile``` to build all three executables. The files should include.\n",
    "\n",
    "When you are done, add/commit and push all of your changes to your forked git repository. Your instructor will use the following command to compile and test your code on the HPCC:\n",
    "\n",
    "    make clean\n",
    "    make \n",
    "    make test\n",
    "\n",
    "Watch the following videos for some hints to help streamline your code and benchmarking process:\n",
    "\n",
    "&#9989; **<font color=red>DO THIS:</font>** Environment Variables in OpenMP [Introduction to OpenMP: 11 part 4 Module 6](https://www.youtube.com/watch?v=WXqicIq68-s) \n",
    " "
   ]
  },
  {
   "cell_type": "code",
   "execution_count": null,
   "metadata": {},
   "outputs": [],
   "source": [
    "from IPython.display import YouTubeVideo\n",
    "YouTubeVideo(\"WXqicIq68-s\",width=570,height=360)"
   ]
  },
  {
   "cell_type": "markdown",
   "metadata": {},
   "source": [
    "## Part 6: Optional Bonus (5 Bonus Points)\n",
    "\n",
    "&#9989; **<font color=red>DO THIS:</font>** Create an updated version of the Edge detector which includes some improvement. For example:\n",
    "\n",
    "1. Use a median or Gaussian filter instead of the average filter.\n",
    "2. Use Non-maximum suppression instead of thresholding.\n",
    "\n",
    "Learn more about the above options [here](https://web.stanford.edu/class/cs315b/assignment1.html) or pick be creative and try to make something else. \n",
    "\n",
    "Make sure the updated code also runs using OpenMP and include it in your Makefile with deliverables.  Include the improved edge detection examples in your report. \n",
    "\n",
    "Here is a short video about Median Filters. "
   ]
  },
  {
   "cell_type": "code",
   "execution_count": null,
   "metadata": {},
   "outputs": [],
   "source": [
    "from IPython.display import YouTubeVideo\n",
    "YouTubeVideo(\"3ELsNs4ERY8\",width=640,height=360)"
   ]
  },
  {
   "cell_type": "markdown",
   "metadata": {},
   "source": [
    "-----\n",
    "### Congratulations, you are done!\n",
    "\n",
    "Submit your tgz file to the course Desire2Learn page in the HW2 assignment.  "
   ]
  },
  {
   "cell_type": "markdown",
   "metadata": {},
   "source": [
    "Written by Dr. Dirk Colbry, Michigan State University (Updated by Dr. Nathan Haut in Spring 2025)\n",
    "<a rel=\"license\" href=\"http://creativecommons.org/licenses/by-nc/4.0/\"><img alt=\"Creative Commons License\" style=\"border-width:0\" src=\"https://i.creativecommons.org/l/by-nc/4.0/88x31.png\" /></a><br />This work is licensed under a <a rel=\"license\" href=\"http://creativecommons.org/licenses/by-nc/4.0/\">Creative Commons Attribution-NonCommercial 4.0 International License</a>."
   ]
  },
  {
   "cell_type": "markdown",
   "metadata": {},
   "source": [
    "----"
   ]
  }
 ],
 "metadata": {
  "anaconda-cloud": {},
  "kernelspec": {
   "display_name": "base",
   "language": "python",
   "name": "python3"
  },
  "language_info": {
   "codemirror_mode": {
    "name": "ipython",
    "version": 3
   },
   "file_extension": ".py",
   "mimetype": "text/x-python",
   "name": "python",
   "nbconvert_exporter": "python",
   "pygments_lexer": "ipython3",
   "version": "3.10.13"
  }
 },
 "nbformat": 4,
 "nbformat_minor": 2
}
